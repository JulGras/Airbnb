{
 "cells": [
  {
   "cell_type": "markdown",
   "metadata": {},
   "source": [
    "# Data analysis and price prediction: Airbnb listings in Berlin\n",
    "### Dataset\n",
    "Is accessible as 'Airbnb Berlin.csv'."
   ]
  },
  {
   "cell_type": "code",
   "execution_count": 3,
   "metadata": {},
   "outputs": [],
   "source": [
    "# import\n",
    "import pandas as pd\n",
    "import numpy as np\n",
    "import matplotlib.pyplot as plt\n",
    "import seaborn as sns"
   ]
  },
  {
   "cell_type": "markdown",
   "metadata": {},
   "source": [
    "On first sight upon reading file and retrieving info:"
   ]
  },
  {
   "cell_type": "code",
   "execution_count": 2,
   "metadata": {},
   "outputs": [
    {
     "name": "stdout",
     "output_type": "stream",
     "text": [
      "<class 'pandas.core.frame.DataFrame'>\n",
      "RangeIndex: 456961 entries, 0 to 456960\n",
      "Data columns (total 47 columns):\n",
      " #   Column                 Non-Null Count   Dtype  \n",
      "---  ------                 --------------   -----  \n",
      " 0   index                  456961 non-null  int64  \n",
      " 1   Review ID              452805 non-null  float64\n",
      " 2   review_date            452805 non-null  object \n",
      " 3   Reviewer ID            452805 non-null  float64\n",
      " 4   Reviewer Name          452805 non-null  object \n",
      " 5   Comments               452597 non-null  object \n",
      " 6   Listing ID             456961 non-null  int64  \n",
      " 7   Listing URL            456961 non-null  object \n",
      " 8   Listing Name           456756 non-null  object \n",
      " 9   Host ID                456961 non-null  int64  \n",
      " 10  Host URL               456961 non-null  object \n",
      " 11  Host Name              456913 non-null  object \n",
      " 12  Host Since             456913 non-null  object \n",
      " 13  Host Response Time     398194 non-null  object \n",
      " 14  Host Response Rate     398194 non-null  object \n",
      " 15  Is Superhost           456913 non-null  object \n",
      " 16  neighbourhood          456961 non-null  object \n",
      " 17  Neighborhood Group     456961 non-null  object \n",
      " 18  City                   456928 non-null  object \n",
      " 19  Postal Code            449258 non-null  object \n",
      " 20  Country Code           456961 non-null  object \n",
      " 21  Country                456961 non-null  object \n",
      " 22  Latitude               456961 non-null  float64\n",
      " 23  Longitude              456961 non-null  float64\n",
      " 24  Is Exact Location      456961 non-null  object \n",
      " 25  Property Type          456961 non-null  object \n",
      " 26  Room Type              456961 non-null  object \n",
      " 27  Accomodates            456961 non-null  int64  \n",
      " 28  Bathrooms              456018 non-null  float64\n",
      " 29  Bedrooms               456244 non-null  float64\n",
      " 30  Beds                   456871 non-null  float64\n",
      " 31  Square Feet            28675 non-null   float64\n",
      " 32  Price                  456961 non-null  object \n",
      " 33  Guests Included        456961 non-null  int64  \n",
      " 34  Min Nights             456961 non-null  int64  \n",
      " 35  Reviews                456961 non-null  int64  \n",
      " 36  First Review           452805 non-null  object \n",
      " 37  Last Review            452805 non-null  object \n",
      " 38  Overall Rating         452242 non-null  float64\n",
      " 39  Accuracy Rating        452209 non-null  float64\n",
      " 40  Cleanliness Rating     452211 non-null  float64\n",
      " 41  Checkin Rating         452188 non-null  float64\n",
      " 42  Communication Rating   452205 non-null  float64\n",
      " 43  Location Rating        452186 non-null  float64\n",
      " 44  Value Rating           452185 non-null  float64\n",
      " 45  Instant Bookable       456961 non-null  object \n",
      " 46  Business Travel Ready  456961 non-null  object \n",
      "dtypes: float64(15), int64(7), object(25)\n",
      "memory usage: 163.9+ MB\n",
      "None\n"
     ]
    }
   ],
   "source": [
    "# read csv and print info\n",
    "df = pd.read_csv('Airbnb Berlin.csv', dtype={'Postal Code': 'str', 'Price': 'str'})\n",
    "print(df.info())"
   ]
  },
  {
   "cell_type": "code",
   "execution_count": null,
   "metadata": {},
   "outputs": [],
   "source": []
  }
 ],
 "metadata": {
  "kernelspec": {
   "display_name": "Python 3",
   "language": "python",
   "name": "python3"
  },
  "language_info": {
   "codemirror_mode": {
    "name": "ipython",
    "version": 3
   },
   "file_extension": ".py",
   "mimetype": "text/x-python",
   "name": "python",
   "nbconvert_exporter": "python",
   "pygments_lexer": "ipython3",
   "version": "3.8.3"
  }
 },
 "nbformat": 4,
 "nbformat_minor": 2
}
