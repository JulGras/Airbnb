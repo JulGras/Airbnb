{
 "cells": [
  {
   "cell_type": "markdown",
   "metadata": {},
   "source": [
    "# Data analysis and price prediction: Airbnb listings in Berlin\n",
    "### Dataset\n",
    "Is accessible as 'Airbnb Berlin.csv', retrieved from kaggle.\n",
    "### Objective\n",
    "Build a predictive model: Predict price based on features of a listing such as location, size etc. Prediction shall be understood as a helping tool for new listings to estimate appropriate price. Therefore, reviews and ratings of listings are in this step irrelevant."
   ]
  },
  {
   "cell_type": "code",
   "execution_count": 2,
   "metadata": {},
   "outputs": [],
   "source": [
    "# import\n",
    "import pandas as pd\n",
    "import numpy as np\n",
    "import matplotlib.pyplot as plt\n",
    "import seaborn as sns"
   ]
  },
  {
   "cell_type": "markdown",
   "metadata": {},
   "source": [
    "## 1. Data exploration and cleaning"
   ]
  },
  {
   "cell_type": "markdown",
   "metadata": {},
   "source": [
    "In the first steps the data set is simplified by:\n",
    "* Dropping duplicates in Listing ID (as duplicates should contain same information per listing)\n",
    "* Selecting only features (columns) relevant for price prediction"
   ]
  },
  {
   "cell_type": "code",
   "execution_count": 6,
   "metadata": {},
   "outputs": [
    {
     "name": "stdout",
     "output_type": "stream",
     "text": [
      "<class 'pandas.core.frame.DataFrame'>\n",
      "RangeIndex: 456961 entries, 0 to 456960\n",
      "Data columns (total 47 columns):\n",
      " #   Column                 Non-Null Count   Dtype  \n",
      "---  ------                 --------------   -----  \n",
      " 0   index                  456961 non-null  int64  \n",
      " 1   Review ID              452805 non-null  float64\n",
      " 2   review_date            452805 non-null  object \n",
      " 3   Reviewer ID            452805 non-null  float64\n",
      " 4   Reviewer Name          452805 non-null  object \n",
      " 5   Comments               452597 non-null  object \n",
      " 6   Listing ID             456961 non-null  int64  \n",
      " 7   Listing URL            456961 non-null  object \n",
      " 8   Listing Name           456756 non-null  object \n",
      " 9   Host ID                456961 non-null  int64  \n",
      " 10  Host URL               456961 non-null  object \n",
      " 11  Host Name              456913 non-null  object \n",
      " 12  Host Since             456913 non-null  object \n",
      " 13  Host Response Time     398194 non-null  object \n",
      " 14  Host Response Rate     398194 non-null  object \n",
      " 15  Is Superhost           456913 non-null  object \n",
      " 16  neighbourhood          456961 non-null  object \n",
      " 17  Neighborhood Group     456961 non-null  object \n",
      " 18  City                   456928 non-null  object \n",
      " 19  Postal Code            449258 non-null  object \n",
      " 20  Country Code           456961 non-null  object \n",
      " 21  Country                456961 non-null  object \n",
      " 22  Latitude               456961 non-null  float64\n",
      " 23  Longitude              456961 non-null  float64\n",
      " 24  Is Exact Location      456961 non-null  object \n",
      " 25  Property Type          456961 non-null  object \n",
      " 26  Room Type              456961 non-null  object \n",
      " 27  Accomodates            456961 non-null  int64  \n",
      " 28  Bathrooms              456018 non-null  float64\n",
      " 29  Bedrooms               456244 non-null  float64\n",
      " 30  Beds                   456871 non-null  float64\n",
      " 31  Square Feet            28675 non-null   float64\n",
      " 32  Price                  456961 non-null  object \n",
      " 33  Guests Included        456961 non-null  int64  \n",
      " 34  Min Nights             456961 non-null  int64  \n",
      " 35  Reviews                456961 non-null  int64  \n",
      " 36  First Review           452805 non-null  object \n",
      " 37  Last Review            452805 non-null  object \n",
      " 38  Overall Rating         452242 non-null  float64\n",
      " 39  Accuracy Rating        452209 non-null  float64\n",
      " 40  Cleanliness Rating     452211 non-null  float64\n",
      " 41  Checkin Rating         452188 non-null  float64\n",
      " 42  Communication Rating   452205 non-null  float64\n",
      " 43  Location Rating        452186 non-null  float64\n",
      " 44  Value Rating           452185 non-null  float64\n",
      " 45  Instant Bookable       456961 non-null  object \n",
      " 46  Business Travel Ready  456961 non-null  object \n",
      "dtypes: float64(15), int64(7), object(25)\n",
      "memory usage: 163.9+ MB\n",
      "None\n"
     ]
    }
   ],
   "source": [
    "# read csv and print info\n",
    "df = pd.read_csv('Airbnb_Berlin.csv', dtype={'Postal Code': 'str', 'Price': 'str'})\n",
    "print(df.info())"
   ]
  },
  {
   "cell_type": "code",
   "execution_count": 5,
   "metadata": {},
   "outputs": [
    {
     "name": "stdout",
     "output_type": "stream",
     "text": [
      "   index   Review ID review_date  Reviewer ID Reviewer Name  \\\n",
      "0      0  58660447.0    01-03-16   14876562.0        Dennis   \n",
      "1      1         NaN         NaN          NaN           NaN   \n",
      "2      2  58663795.0    01-03-16   49367757.0       Andreea   \n",
      "3      3  59003619.0    01-05-16   46694292.0         Sasha   \n",
      "4      4  66845661.0    03-25-16   54542819.0        Yohana   \n",
      "\n",
      "                                            Comments  Listing ID  \\\n",
      "0  Very nice, clean appartement! Josh was really ...    10002699   \n",
      "1                                                NaN    10002922   \n",
      "2  Aki is really nice and friendly. We had an ama...    10006647   \n",
      "3  Aki is a very nice dude with a clean place in ...    10006647   \n",
      "4  Aki's place was easy to find and located in th...    10006647   \n",
      "\n",
      "                             Listing URL                     Listing Name  \\\n",
      "0  https://www.airbnb.com/rooms/10002699  Trendy and peaceful KreuzkÃ¶lln   \n",
      "1  https://www.airbnb.com/rooms/10002922  Sehr zentrale Wohnung in Berlin   \n",
      "2  https://www.airbnb.com/rooms/10006647      Very central and very quite   \n",
      "3  https://www.airbnb.com/rooms/10006647      Very central and very quite   \n",
      "4  https://www.airbnb.com/rooms/10006647      Very central and very quite   \n",
      "\n",
      "    Host ID  ... Last Review Overall Rating Accuracy Rating  \\\n",
      "0  44696672  ...    01-03-16          100.0             8.0   \n",
      "1  45848709  ...         NaN            NaN             NaN   \n",
      "2  40791092  ...    02-12-17           92.0             9.0   \n",
      "3  40791092  ...    02-12-17           92.0             9.0   \n",
      "4  40791092  ...    02-12-17           92.0             9.0   \n",
      "\n",
      "  Cleanliness Rating Checkin Rating Communication Rating Location Rating  \\\n",
      "0               10.0            6.0                 10.0            10.0   \n",
      "1                NaN            NaN                  NaN             NaN   \n",
      "2                8.0            9.0                 10.0            10.0   \n",
      "3                8.0            9.0                 10.0            10.0   \n",
      "4                8.0            9.0                 10.0            10.0   \n",
      "\n",
      "  Value Rating Instant Bookable Business Travel Ready  \n",
      "0         10.0                f                     f  \n",
      "1          NaN                f                     f  \n",
      "2          9.0                f                     f  \n",
      "3          9.0                f                     f  \n",
      "4          9.0                f                     f  \n",
      "\n",
      "[5 rows x 47 columns]\n"
     ]
    }
   ],
   "source": [
    "# print head\n",
    "print(df.head())"
   ]
  },
  {
   "cell_type": "code",
   "execution_count": 7,
   "metadata": {},
   "outputs": [
    {
     "name": "stdout",
     "output_type": "stream",
     "text": [
      "23536\n"
     ]
    }
   ],
   "source": [
    "# print number of unique values in listing ID\n",
    "print(df['Listing ID'].nunique())"
   ]
  },
  {
   "cell_type": "code",
   "execution_count": 13,
   "metadata": {},
   "outputs": [
    {
     "name": "stdout",
     "output_type": "stream",
     "text": [
      "<class 'pandas.core.frame.DataFrame'>\n",
      "Int64Index: 23536 entries, 0 to 456958\n",
      "Data columns (total 32 columns):\n",
      " #   Column                 Non-Null Count  Dtype  \n",
      "---  ------                 --------------  -----  \n",
      " 0   index                  23536 non-null  int64  \n",
      " 1   Listing ID             23536 non-null  int64  \n",
      " 2   Listing URL            23536 non-null  object \n",
      " 3   Listing Name           23482 non-null  object \n",
      " 4   Host ID                23536 non-null  int64  \n",
      " 5   Host URL               23536 non-null  object \n",
      " 6   Host Name              23515 non-null  object \n",
      " 7   Host Since             23515 non-null  object \n",
      " 8   Host Response Time     13046 non-null  object \n",
      " 9   Host Response Rate     13046 non-null  object \n",
      " 10  Is Superhost           23515 non-null  object \n",
      " 11  neighbourhood          23536 non-null  object \n",
      " 12  Neighborhood Group     23536 non-null  object \n",
      " 13  City                   23533 non-null  object \n",
      " 14  Postal Code            22951 non-null  object \n",
      " 15  Country Code           23536 non-null  object \n",
      " 16  Country                23536 non-null  object \n",
      " 17  Latitude               23536 non-null  float64\n",
      " 18  Longitude              23536 non-null  float64\n",
      " 19  Is Exact Location      23536 non-null  object \n",
      " 20  Property Type          23536 non-null  object \n",
      " 21  Room Type              23536 non-null  object \n",
      " 22  Accomodates            23536 non-null  int64  \n",
      " 23  Bathrooms              23507 non-null  float64\n",
      " 24  Bedrooms               23516 non-null  float64\n",
      " 25  Beds                   23501 non-null  float64\n",
      " 26  Square Feet            425 non-null    float64\n",
      " 27  Price                  23536 non-null  object \n",
      " 28  Guests Included        23536 non-null  int64  \n",
      " 29  Min Nights             23536 non-null  int64  \n",
      " 30  Instant Bookable       23536 non-null  object \n",
      " 31  Business Travel Ready  23536 non-null  object \n",
      "dtypes: float64(6), int64(6), object(20)\n",
      "memory usage: 5.9+ MB\n",
      "None\n"
     ]
    }
   ],
   "source": [
    "# drop duplicates in Listing ID\n",
    "df = df.drop_duplicates(subset='Listing ID')\n",
    "\n",
    "# drop columns concerning reviews \n",
    "col_reviews_ratings = ['Review ID', 'review_date', 'Reviewer ID', 'Reviewer Name', 'Comments', 'Overall Rating', 'Reviews', \n",
    "                       'First Review', 'Last Review', 'Accuracy Rating', 'Cleanliness Rating', 'Checkin Rating', \n",
    "                       'Communication Rating', 'Location Rating', 'Value Rating']\n",
    "df = df.drop(labels=col_reviews_ratings, axis=1)\n",
    "\n",
    "# again print info\n",
    "print(df.info())"
   ]
  },
  {
   "cell_type": "markdown",
   "metadata": {},
   "source": [
    "Furthermore, we drop:\n",
    "* columns that contain other irrelevant aspects such as URLs, IDs (except Listing ID for now), names, host related info (except Is Superhost).\n",
    "* column wih very low non-null count: Square Feet"
   ]
  },
  {
   "cell_type": "code",
   "execution_count": 14,
   "metadata": {},
   "outputs": [
    {
     "name": "stdout",
     "output_type": "stream",
     "text": [
      "<class 'pandas.core.frame.DataFrame'>\n",
      "Int64Index: 23536 entries, 0 to 456958\n",
      "Data columns (total 23 columns):\n",
      " #   Column                 Non-Null Count  Dtype  \n",
      "---  ------                 --------------  -----  \n",
      " 0   index                  23536 non-null  int64  \n",
      " 1   Listing ID             23536 non-null  int64  \n",
      " 2   Is Superhost           23515 non-null  object \n",
      " 3   neighbourhood          23536 non-null  object \n",
      " 4   Neighborhood Group     23536 non-null  object \n",
      " 5   City                   23533 non-null  object \n",
      " 6   Postal Code            22951 non-null  object \n",
      " 7   Country Code           23536 non-null  object \n",
      " 8   Country                23536 non-null  object \n",
      " 9   Latitude               23536 non-null  float64\n",
      " 10  Longitude              23536 non-null  float64\n",
      " 11  Is Exact Location      23536 non-null  object \n",
      " 12  Property Type          23536 non-null  object \n",
      " 13  Room Type              23536 non-null  object \n",
      " 14  Accomodates            23536 non-null  int64  \n",
      " 15  Bathrooms              23507 non-null  float64\n",
      " 16  Bedrooms               23516 non-null  float64\n",
      " 17  Beds                   23501 non-null  float64\n",
      " 18  Price                  23536 non-null  object \n",
      " 19  Guests Included        23536 non-null  int64  \n",
      " 20  Min Nights             23536 non-null  int64  \n",
      " 21  Instant Bookable       23536 non-null  object \n",
      " 22  Business Travel Ready  23536 non-null  object \n",
      "dtypes: float64(5), int64(5), object(13)\n",
      "memory usage: 4.3+ MB\n",
      "None\n"
     ]
    }
   ],
   "source": [
    "# drop descriptive columns  \n",
    "col_irr = ['Listing URL', 'Listing Name', 'Host ID', 'Host URL', 'Host Name', 'Host Since', 'Host Response Time', \n",
    "           'Host Response Rate', 'Square Feet']\n",
    "df = df.drop(labels=col_irr, axis=1)\n",
    "\n",
    "# again print info\n",
    "print(df.info())"
   ]
  },
  {
   "cell_type": "code",
   "execution_count": null,
   "metadata": {},
   "outputs": [],
   "source": []
  }
 ],
 "metadata": {
  "kernelspec": {
   "display_name": "Python 3",
   "language": "python",
   "name": "python3"
  },
  "language_info": {
   "codemirror_mode": {
    "name": "ipython",
    "version": 3
   },
   "file_extension": ".py",
   "mimetype": "text/x-python",
   "name": "python",
   "nbconvert_exporter": "python",
   "pygments_lexer": "ipython3",
   "version": "3.8.3"
  }
 },
 "nbformat": 4,
 "nbformat_minor": 2
}
