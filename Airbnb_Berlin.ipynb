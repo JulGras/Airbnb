{
 "cells": [
  {
   "cell_type": "markdown",
   "metadata": {},
   "source": [
    "# Data analysis and price prediction: Airbnb listings in Berlin\n",
    "### Dataset\n",
    "Is accessible as 'Airbnb Berlin.csv', retrieved from kaggle.\n",
    "### Objective\n",
    "Build a predictive model: Predict price based on features of a listing such as location, size etc. Prediction shall be understood as a helping tool for new listings to estimate appropriate price. Therefore, reviews and ratings of listings are in this step irrelevant."
   ]
  },
  {
   "cell_type": "code",
   "execution_count": 96,
   "metadata": {},
   "outputs": [],
   "source": [
    "# import\n",
    "import pandas as pd\n",
    "import numpy as np\n",
    "import matplotlib.pyplot as plt\n",
    "import seaborn as sns"
   ]
  },
  {
   "cell_type": "markdown",
   "metadata": {},
   "source": [
    "## 1. First data exploration and cleaning"
   ]
  },
  {
   "cell_type": "markdown",
   "metadata": {},
   "source": [
    "In the first steps the data set is simplified by:\n",
    "* Dropping duplicates in Listing ID (as duplicates should contain same information per listing)\n",
    "* Selecting only features (columns) relevant for price prediction"
   ]
  },
  {
   "cell_type": "code",
   "execution_count": 97,
   "metadata": {
    "scrolled": false
   },
   "outputs": [
    {
     "name": "stdout",
     "output_type": "stream",
     "text": [
      "<class 'pandas.core.frame.DataFrame'>\n",
      "RangeIndex: 456961 entries, 0 to 456960\n",
      "Data columns (total 47 columns):\n",
      " #   Column                 Non-Null Count   Dtype  \n",
      "---  ------                 --------------   -----  \n",
      " 0   index                  456961 non-null  int64  \n",
      " 1   Review ID              452805 non-null  float64\n",
      " 2   review_date            452805 non-null  object \n",
      " 3   Reviewer ID            452805 non-null  float64\n",
      " 4   Reviewer Name          452805 non-null  object \n",
      " 5   Comments               452597 non-null  object \n",
      " 6   Listing ID             456961 non-null  int64  \n",
      " 7   Listing URL            456961 non-null  object \n",
      " 8   Listing Name           456756 non-null  object \n",
      " 9   Host ID                456961 non-null  int64  \n",
      " 10  Host URL               456961 non-null  object \n",
      " 11  Host Name              456913 non-null  object \n",
      " 12  Host Since             456913 non-null  object \n",
      " 13  Host Response Time     398194 non-null  object \n",
      " 14  Host Response Rate     398194 non-null  object \n",
      " 15  Is Superhost           456913 non-null  object \n",
      " 16  neighbourhood          456961 non-null  object \n",
      " 17  Neighborhood Group     456961 non-null  object \n",
      " 18  City                   456928 non-null  object \n",
      " 19  Postal Code            449258 non-null  object \n",
      " 20  Country Code           456961 non-null  object \n",
      " 21  Country                456961 non-null  object \n",
      " 22  Latitude               456961 non-null  float64\n",
      " 23  Longitude              456961 non-null  float64\n",
      " 24  Is Exact Location      456961 non-null  object \n",
      " 25  Property Type          456961 non-null  object \n",
      " 26  Room Type              456961 non-null  object \n",
      " 27  Accomodates            456961 non-null  int64  \n",
      " 28  Bathrooms              456018 non-null  float64\n",
      " 29  Bedrooms               456244 non-null  float64\n",
      " 30  Beds                   456871 non-null  float64\n",
      " 31  Square Feet            28675 non-null   float64\n",
      " 32  Price                  456961 non-null  object \n",
      " 33  Guests Included        456961 non-null  int64  \n",
      " 34  Min Nights             456961 non-null  int64  \n",
      " 35  Reviews                456961 non-null  int64  \n",
      " 36  First Review           452805 non-null  object \n",
      " 37  Last Review            452805 non-null  object \n",
      " 38  Overall Rating         452242 non-null  float64\n",
      " 39  Accuracy Rating        452209 non-null  float64\n",
      " 40  Cleanliness Rating     452211 non-null  float64\n",
      " 41  Checkin Rating         452188 non-null  float64\n",
      " 42  Communication Rating   452205 non-null  float64\n",
      " 43  Location Rating        452186 non-null  float64\n",
      " 44  Value Rating           452185 non-null  float64\n",
      " 45  Instant Bookable       456961 non-null  object \n",
      " 46  Business Travel Ready  456961 non-null  object \n",
      "dtypes: float64(15), int64(7), object(25)\n",
      "memory usage: 163.9+ MB\n",
      "None\n"
     ]
    }
   ],
   "source": [
    "# read csv and print info\n",
    "df = pd.read_csv('Airbnb_Berlin.csv', dtype={'Postal Code': 'str', 'Price': 'str'})\n",
    "print(df.info())"
   ]
  },
  {
   "cell_type": "code",
   "execution_count": 98,
   "metadata": {},
   "outputs": [
    {
     "name": "stdout",
     "output_type": "stream",
     "text": [
      "   index   Review ID review_date  Reviewer ID Reviewer Name  \\\n",
      "0      0  58660447.0    01-03-16   14876562.0        Dennis   \n",
      "1      1         NaN         NaN          NaN           NaN   \n",
      "2      2  58663795.0    01-03-16   49367757.0       Andreea   \n",
      "3      3  59003619.0    01-05-16   46694292.0         Sasha   \n",
      "4      4  66845661.0    03-25-16   54542819.0        Yohana   \n",
      "\n",
      "                                            Comments  Listing ID  \\\n",
      "0  Very nice, clean appartement! Josh was really ...    10002699   \n",
      "1                                                NaN    10002922   \n",
      "2  Aki is really nice and friendly. We had an ama...    10006647   \n",
      "3  Aki is a very nice dude with a clean place in ...    10006647   \n",
      "4  Aki's place was easy to find and located in th...    10006647   \n",
      "\n",
      "                             Listing URL                     Listing Name  \\\n",
      "0  https://www.airbnb.com/rooms/10002699  Trendy and peaceful KreuzkÃ¶lln   \n",
      "1  https://www.airbnb.com/rooms/10002922  Sehr zentrale Wohnung in Berlin   \n",
      "2  https://www.airbnb.com/rooms/10006647      Very central and very quite   \n",
      "3  https://www.airbnb.com/rooms/10006647      Very central and very quite   \n",
      "4  https://www.airbnb.com/rooms/10006647      Very central and very quite   \n",
      "\n",
      "    Host ID  ... Last Review Overall Rating Accuracy Rating  \\\n",
      "0  44696672  ...    01-03-16          100.0             8.0   \n",
      "1  45848709  ...         NaN            NaN             NaN   \n",
      "2  40791092  ...    02-12-17           92.0             9.0   \n",
      "3  40791092  ...    02-12-17           92.0             9.0   \n",
      "4  40791092  ...    02-12-17           92.0             9.0   \n",
      "\n",
      "  Cleanliness Rating Checkin Rating Communication Rating Location Rating  \\\n",
      "0               10.0            6.0                 10.0            10.0   \n",
      "1                NaN            NaN                  NaN             NaN   \n",
      "2                8.0            9.0                 10.0            10.0   \n",
      "3                8.0            9.0                 10.0            10.0   \n",
      "4                8.0            9.0                 10.0            10.0   \n",
      "\n",
      "  Value Rating Instant Bookable Business Travel Ready  \n",
      "0         10.0                f                     f  \n",
      "1          NaN                f                     f  \n",
      "2          9.0                f                     f  \n",
      "3          9.0                f                     f  \n",
      "4          9.0                f                     f  \n",
      "\n",
      "[5 rows x 47 columns]\n"
     ]
    }
   ],
   "source": [
    "# print head\n",
    "print(df.head())"
   ]
  },
  {
   "cell_type": "code",
   "execution_count": 99,
   "metadata": {},
   "outputs": [
    {
     "name": "stdout",
     "output_type": "stream",
     "text": [
      "23536\n"
     ]
    }
   ],
   "source": [
    "# print number of unique values in listing ID\n",
    "print(df['Listing ID'].nunique())"
   ]
  },
  {
   "cell_type": "code",
   "execution_count": 100,
   "metadata": {},
   "outputs": [
    {
     "name": "stdout",
     "output_type": "stream",
     "text": [
      "<class 'pandas.core.frame.DataFrame'>\n",
      "Int64Index: 23536 entries, 0 to 456958\n",
      "Data columns (total 32 columns):\n",
      " #   Column                 Non-Null Count  Dtype  \n",
      "---  ------                 --------------  -----  \n",
      " 0   index                  23536 non-null  int64  \n",
      " 1   Listing ID             23536 non-null  int64  \n",
      " 2   Listing URL            23536 non-null  object \n",
      " 3   Listing Name           23482 non-null  object \n",
      " 4   Host ID                23536 non-null  int64  \n",
      " 5   Host URL               23536 non-null  object \n",
      " 6   Host Name              23515 non-null  object \n",
      " 7   Host Since             23515 non-null  object \n",
      " 8   Host Response Time     13046 non-null  object \n",
      " 9   Host Response Rate     13046 non-null  object \n",
      " 10  Is Superhost           23515 non-null  object \n",
      " 11  neighbourhood          23536 non-null  object \n",
      " 12  Neighborhood Group     23536 non-null  object \n",
      " 13  City                   23533 non-null  object \n",
      " 14  Postal Code            22951 non-null  object \n",
      " 15  Country Code           23536 non-null  object \n",
      " 16  Country                23536 non-null  object \n",
      " 17  Latitude               23536 non-null  float64\n",
      " 18  Longitude              23536 non-null  float64\n",
      " 19  Is Exact Location      23536 non-null  object \n",
      " 20  Property Type          23536 non-null  object \n",
      " 21  Room Type              23536 non-null  object \n",
      " 22  Accomodates            23536 non-null  int64  \n",
      " 23  Bathrooms              23507 non-null  float64\n",
      " 24  Bedrooms               23516 non-null  float64\n",
      " 25  Beds                   23501 non-null  float64\n",
      " 26  Square Feet            425 non-null    float64\n",
      " 27  Price                  23536 non-null  object \n",
      " 28  Guests Included        23536 non-null  int64  \n",
      " 29  Min Nights             23536 non-null  int64  \n",
      " 30  Instant Bookable       23536 non-null  object \n",
      " 31  Business Travel Ready  23536 non-null  object \n",
      "dtypes: float64(6), int64(6), object(20)\n",
      "memory usage: 5.9+ MB\n",
      "None\n"
     ]
    }
   ],
   "source": [
    "# drop duplicates in Listing ID\n",
    "df = df.drop_duplicates(subset='Listing ID')\n",
    "\n",
    "# drop columns concerning reviews \n",
    "col_reviews_ratings = ['Review ID', 'review_date', 'Reviewer ID', 'Reviewer Name', 'Comments', 'Overall Rating', 'Reviews', \n",
    "                       'First Review', 'Last Review', 'Accuracy Rating', 'Cleanliness Rating', 'Checkin Rating', \n",
    "                       'Communication Rating', 'Location Rating', 'Value Rating']\n",
    "df = df.drop(labels=col_reviews_ratings, axis=1)\n",
    "\n",
    "# again print info\n",
    "print(df.info())"
   ]
  },
  {
   "cell_type": "markdown",
   "metadata": {},
   "source": [
    "Furthermore, we drop:\n",
    "* columns that contain other irrelevant aspects such as URLs, IDs (except Listing ID for now), names, host related info (except Is Superhost).\n",
    "* column wih very low non-null count: Square Feet"
   ]
  },
  {
   "cell_type": "code",
   "execution_count": 101,
   "metadata": {},
   "outputs": [
    {
     "name": "stdout",
     "output_type": "stream",
     "text": [
      "<class 'pandas.core.frame.DataFrame'>\n",
      "Int64Index: 23536 entries, 0 to 456958\n",
      "Data columns (total 23 columns):\n",
      " #   Column                 Non-Null Count  Dtype  \n",
      "---  ------                 --------------  -----  \n",
      " 0   index                  23536 non-null  int64  \n",
      " 1   Listing ID             23536 non-null  int64  \n",
      " 2   Is Superhost           23515 non-null  object \n",
      " 3   neighbourhood          23536 non-null  object \n",
      " 4   Neighborhood Group     23536 non-null  object \n",
      " 5   City                   23533 non-null  object \n",
      " 6   Postal Code            22951 non-null  object \n",
      " 7   Country Code           23536 non-null  object \n",
      " 8   Country                23536 non-null  object \n",
      " 9   Latitude               23536 non-null  float64\n",
      " 10  Longitude              23536 non-null  float64\n",
      " 11  Is Exact Location      23536 non-null  object \n",
      " 12  Property Type          23536 non-null  object \n",
      " 13  Room Type              23536 non-null  object \n",
      " 14  Accomodates            23536 non-null  int64  \n",
      " 15  Bathrooms              23507 non-null  float64\n",
      " 16  Bedrooms               23516 non-null  float64\n",
      " 17  Beds                   23501 non-null  float64\n",
      " 18  Price                  23536 non-null  object \n",
      " 19  Guests Included        23536 non-null  int64  \n",
      " 20  Min Nights             23536 non-null  int64  \n",
      " 21  Instant Bookable       23536 non-null  object \n",
      " 22  Business Travel Ready  23536 non-null  object \n",
      "dtypes: float64(5), int64(5), object(13)\n",
      "memory usage: 4.3+ MB\n",
      "None\n"
     ]
    }
   ],
   "source": [
    "# drop descriptive columns  \n",
    "col_irr = ['Listing URL', 'Listing Name', 'Host ID', 'Host URL', 'Host Name', 'Host Since', 'Host Response Time', \n",
    "           'Host Response Rate', 'Square Feet']\n",
    "df = df.drop(labels=col_irr, axis=1)\n",
    "\n",
    "# again print info\n",
    "print(df.info())"
   ]
  },
  {
   "cell_type": "markdown",
   "metadata": {},
   "source": [
    "Then, we explore the columns/features we are not sure about yet. Based on the value counts we get, we:\n",
    "* Drop the columns neighbourhood, Neighborhood Group, City, Country Code, Country as we assume that the location is sufficiently described in Latitude + Longitude and that all rental units are located in (Greater) Berlin (to be confirmed exploring Latitude + Longitude). \n",
    "* Change values of the columns Is Superhost, Instant Bookable from 'f'/'t' to Boolean False/True.\n",
    "* Drop column Business Travel Ready, as all values are 'f'.\n",
    "* Drop rows with null values.\n",
    "* After having identified all unique listings we don't need the Listing ID and index anymore and drop them.\n",
    "* Change target variable to float\n"
   ]
  },
  {
   "cell_type": "code",
   "execution_count": 102,
   "metadata": {},
   "outputs": [
    {
     "name": "stdout",
     "output_type": "stream",
     "text": [
      "\n",
      "value counts in feature Is Superhost:\n",
      "\n",
      "f    19948\n",
      "t     3567\n",
      "Name: Is Superhost, dtype: int64\n",
      "\n",
      "value counts in feature neighbourhood:\n",
      "\n",
      "NeukÃ¶lln                    3444\n",
      "Prenzlauer Berg              2995\n",
      "Kreuzberg                    2936\n",
      "Friedrichshain               2782\n",
      "Mitte                        2212\n",
      "                             ... \n",
      "KonradshÃ¶he                    4\n",
      "Falkenberg                      3\n",
      "Wartenberg                      1\n",
      "Stadtrandsiedlung Malchow       1\n",
      "Blankenfelde                    1\n",
      "Name: neighbourhood, Length: 93, dtype: int64\n",
      "\n",
      "value counts in feature Neighborhood Group:\n",
      "\n",
      "Friedrichshain-Kreuzberg    5726\n",
      "Mitte                       4865\n",
      "Pankow                      3687\n",
      "NeukÃ¶lln                   3587\n",
      "Charlottenburg-Wilm.        1676\n",
      "Tempelhof - SchÃ¶neberg     1586\n",
      "Lichtenberg                  743\n",
      "Treptow - KÃ¶penick          626\n",
      "Steglitz - Zehlendorf        468\n",
      "Reinickendorf                296\n",
      "Marzahn - Hellersdorf        147\n",
      "Spandau                      129\n",
      "Name: Neighborhood Group, dtype: int64\n",
      "\n",
      "value counts in feature City:\n",
      "\n",
      "Berlin                                 23412\n",
      ".                                         12\n",
      "SchÃ¶neberg                               10\n",
      "Weissensee                                 8\n",
      "Mitte                                      8\n",
      "*                                          6\n",
      "Wilmersdorf                                4\n",
      "berlin                                     4\n",
      "Potsdam                                    3\n",
      "Berlino                                    3\n",
      "Berlin - Mitte                             3\n",
      "Friedrichshain                             3\n",
      "Berlin-Wilmersdorf                         3\n",
      "ÎÎµÏÎ¿Î»Î¯Î½Î¿                           2\n",
      "Berlin - SchÃ¶neberg                       2\n",
      "Berlin-Mitte                               2\n",
      "Hoppegarten                                2\n",
      "BerlÃ­n                                    2\n",
      "Prenzlauer Berg                            2\n",
      "Wannsee                                    2\n",
      "Kleinmachnow                               2\n",
      "Eichwalde                                  1\n",
      "Berlin Friedrichshain                      1\n",
      "Berlin-Treptow                             1\n",
      "10999 Berlin                               1\n",
      "Berlin-NeukÃ¶lln                           1\n",
      "Berlin, SchÃ¶neberg                        1\n",
      "Charlottenburg                             1\n",
      "Berlin/Steglitz                            1\n",
      "KÃ¶penick                                  1\n",
      "Berlin (Kreuzberg)                         1\n",
      "Erkner                                     1\n",
      "Berlin, Charlottenburg                     1\n",
      "Hennigsdorf                                1\n",
      "Berlin- Charlottenburg                     1\n",
      "Berlin-Zehlendorf                          1\n",
      "Berlin-Friedrichshain                      1\n",
      "Kreuzberg, Berlin                          1\n",
      "Woltersdorf                                1\n",
      "Berlim                                     1\n",
      "ÐÐµÑÐ»Ð¸Ð½                               1\n",
      "Berlin-Wedding                             1\n",
      "MÃ¼hlenbecker Land                         1\n",
      "Zeuthen                                    1\n",
      "Baseler StraÃe 91 A, 12205 Berlin         1\n",
      "Berlin / Kleinmachnow                      1\n",
      "Berlin (Wedding)                           1\n",
      "Baseler StraÃe 91 A,12205 Berlin          1\n",
      "Berlin, Berlin, DE                         1\n",
      "Weissensee, Berlin                         1\n",
      "Berlin Prenzlauer Berg                     1\n",
      "ææ                                     1\n",
      "Berlin Mitte                               1\n",
      "Mitte/Tiergarten                           1\n",
      "Mitte/Kreuzberg                            1\n",
      "Berlin, friedrichshain                     1\n",
      "Berlin-Kreuzberg                           1\n",
      "Berlin-Tiergarten                          1\n",
      "Berlin NeukÃ¶lln                           1\n",
      "Name: City, dtype: int64\n",
      "\n",
      "value counts in feature Postal Code:\n",
      "\n",
      "10245.0            702\n",
      "10247.0            644\n",
      "10437.0            593\n",
      "10115.0            545\n",
      "10999.0            478\n",
      "                  ... \n",
      "10119\\n10119         1\n",
      "10997 Kreuzberg      1\n",
      "13597.0              1\n",
      "12009.0              1\n",
      "13439                1\n",
      "Name: Postal Code, Length: 396, dtype: int64\n",
      "\n",
      "value counts in feature Country Code:\n",
      "\n",
      "DE    23534\n",
      "GB        1\n",
      "NL        1\n",
      "Name: Country Code, dtype: int64\n",
      "\n",
      "value counts in feature Country:\n",
      "\n",
      "Germany           23534\n",
      "United Kingdom        1\n",
      "Netherlands           1\n",
      "Name: Country, dtype: int64\n",
      "\n",
      "value counts in feature Is Exact Location:\n",
      "\n",
      "t    17649\n",
      "f     5887\n",
      "Name: Is Exact Location, dtype: int64\n",
      "\n",
      "value counts in feature Property Type:\n",
      "\n",
      "Apartment                 20935\n",
      "Condominium                 577\n",
      "Loft                        457\n",
      "House                       436\n",
      "Serviced apartment          316\n",
      "Hostel                      183\n",
      "Townhouse                   108\n",
      "Bed and breakfast            85\n",
      "Guest suite                  73\n",
      "Hotel                        72\n",
      "Boutique hotel               66\n",
      "Guesthouse                   57\n",
      "Other                        41\n",
      "Bungalow                     23\n",
      "Boat                         20\n",
      "Houseboat                    14\n",
      "Villa                        13\n",
      "Tiny house                    8\n",
      "Pension (South Korea)         8\n",
      "Cabin                         7\n",
      "Cottage                       7\n",
      "Camper/RV                     6\n",
      "Aparthotel                    4\n",
      "Castle                        3\n",
      "Resort                        3\n",
      "Casa particular (Cuba)        2\n",
      "Earth house                   2\n",
      "Treehouse                     2\n",
      "Train                         2\n",
      "Hut                           1\n",
      "Cave                          1\n",
      "Vacation home                 1\n",
      "Tipi                          1\n",
      "Barn                          1\n",
      "Tent                          1\n",
      "Name: Property Type, dtype: int64\n",
      "\n",
      "value counts in feature Room Type:\n",
      "\n",
      "Private room       11694\n",
      "Entire home/apt    11528\n",
      "Shared room          314\n",
      "Name: Room Type, dtype: int64\n",
      "\n",
      "value counts in feature Instant Bookable:\n",
      "\n",
      "f    15658\n",
      "t     7878\n",
      "Name: Instant Bookable, dtype: int64\n",
      "\n",
      "value counts in feature Business Travel Ready:\n",
      "\n",
      "f    23536\n",
      "Name: Business Travel Ready, dtype: int64\n"
     ]
    }
   ],
   "source": [
    "feat_in_quest = ['Is Superhost', 'neighbourhood', 'Neighborhood Group', 'City', 'Postal Code', 'Country Code', 'Country',\n",
    "                 'Is Exact Location', 'Property Type', 'Room Type', 'Instant Bookable', 'Business Travel Ready']\n",
    "for feat in feat_in_quest:\n",
    "    print('\\n' + 'value counts in feature {}:'.format(feat) + '\\n')\n",
    "    print(df[feat].value_counts())\n"
   ]
  },
  {
   "cell_type": "code",
   "execution_count": 103,
   "metadata": {},
   "outputs": [],
   "source": [
    "# drop superfluous location related columns  \n",
    "col_loc = ['neighbourhood', 'Neighborhood Group', 'City', 'Postal Code', 'Country Code', 'Country']\n",
    "df = df.drop(labels=col_loc, axis=1)\n",
    "\n",
    "# drop Listing ID\n",
    "df = df.drop(labels='Listing ID', axis=1)\n",
    "\n",
    "# drop Business Travel Ready column  \n",
    "df = df.drop(labels='Business Travel Ready', axis=1)\n",
    "\n",
    "# replace 'f'/'t' by False/True\n",
    "df = df.replace({'f': False, 't':True})"
   ]
  },
  {
   "cell_type": "code",
   "execution_count": 104,
   "metadata": {},
   "outputs": [],
   "source": [
    "# convert Price to float\n",
    "df['Price'] = df['Price'].str.replace(',','')\n",
    "df['Price'] = df['Price'].astype(float)"
   ]
  },
  {
   "cell_type": "code",
   "execution_count": 105,
   "metadata": {},
   "outputs": [],
   "source": [
    "# drop rows with null values\n",
    "df = df.dropna()"
   ]
  },
  {
   "cell_type": "code",
   "execution_count": 106,
   "metadata": {},
   "outputs": [],
   "source": [
    "# drop and reset index column\n",
    "df = df.drop(labels='index', axis=1)\n",
    "list_index = [i for i in range(23439)]\n",
    "df.index = list_index "
   ]
  },
  {
   "cell_type": "code",
   "execution_count": 107,
   "metadata": {},
   "outputs": [
    {
     "name": "stdout",
     "output_type": "stream",
     "text": [
      "<class 'pandas.core.frame.DataFrame'>\n",
      "Int64Index: 23439 entries, 0 to 23438\n",
      "Data columns (total 14 columns):\n",
      " #   Column             Non-Null Count  Dtype  \n",
      "---  ------             --------------  -----  \n",
      " 0   Is Superhost       23439 non-null  object \n",
      " 1   Latitude           23439 non-null  float64\n",
      " 2   Longitude          23439 non-null  float64\n",
      " 3   Is Exact Location  23439 non-null  bool   \n",
      " 4   Property Type      23439 non-null  object \n",
      " 5   Room Type          23439 non-null  object \n",
      " 6   Accomodates        23439 non-null  int64  \n",
      " 7   Bathrooms          23439 non-null  float64\n",
      " 8   Bedrooms           23439 non-null  float64\n",
      " 9   Beds               23439 non-null  float64\n",
      " 10  Price              23439 non-null  float64\n",
      " 11  Guests Included    23439 non-null  int64  \n",
      " 12  Min Nights         23439 non-null  int64  \n",
      " 13  Instant Bookable   23439 non-null  bool   \n",
      "dtypes: bool(2), float64(6), int64(3), object(3)\n",
      "memory usage: 2.4+ MB\n",
      "None\n"
     ]
    }
   ],
   "source": [
    "# again print info\n",
    "print(df.info())"
   ]
  },
  {
   "cell_type": "markdown",
   "metadata": {},
   "source": [
    "We end up having 23439 rows and 14 columns (+ index) consisting of 13 features and the target variable:\n",
    "* Is Superhost: Boolean, whether host is superhost\n",
    "* Latitude: float, latitude on map of rental unit\n",
    "* Longitude: float, longitude on map of rental unit\n",
    "* Is Exact Location: Boolean, whether exact location is shown in the ad\n",
    "* Property Type: Categorical string, labelling type of the property\n",
    "* Room Type: Categorical string, labelling type of the room\n",
    "* Accomodates:  integer\n",
    "* Bathrooms: float, number of bathrooms in rental unit\n",
    "* Bedrooms: float, number of bedrooms in rental unit\n",
    "* Beds: float, number of beds in rental unit\n",
    "* Price: float, price per night of rental unit (TARGET!)\n",
    "* Guests Included: integer\n",
    "* Min Nights: minimum number of nights to be booked\n",
    "* Instant Bookable: Boolean, whether instant booking option is available"
   ]
  },
  {
   "cell_type": "code",
   "execution_count": 108,
   "metadata": {},
   "outputs": [
    {
     "name": "stdout",
     "output_type": "stream",
     "text": [
      "0    60.0\n",
      "1    52.0\n",
      "2    35.0\n",
      "3    30.0\n",
      "4    30.0\n",
      "Name: Price, dtype: float64\n"
     ]
    }
   ],
   "source": [
    "print(df['Price'].head())"
   ]
  },
  {
   "cell_type": "markdown",
   "metadata": {},
   "source": [
    "### 2. More detailed EDA and visualization\n",
    "#### 2.1 Numerical features"
   ]
  },
  {
   "cell_type": "code",
   "execution_count": 109,
   "metadata": {},
   "outputs": [
    {
     "name": "stdout",
     "output_type": "stream",
     "text": [
      "           Latitude     Longitude   Accomodates     Bathrooms      Bedrooms  \\\n",
      "count  23439.000000  23439.000000  23439.000000  23439.000000  23439.000000   \n",
      "mean      52.509917     13.406188      2.673536      1.096165      1.162038   \n",
      "std        0.031284      0.058493      1.569750      0.346545      0.661517   \n",
      "min       52.346200     13.097180      1.000000      0.000000      0.000000   \n",
      "25%       52.489160     13.375765      2.000000      1.000000      1.000000   \n",
      "50%       52.509260     13.416560      2.000000      1.000000      1.000000   \n",
      "75%       52.532700     13.439465      3.000000      1.000000      1.000000   \n",
      "max       52.651670     13.757640     16.000000      8.500000     10.000000   \n",
      "\n",
      "               Beds         Price  Guests Included    Min Nights  \n",
      "count  23439.000000  23439.000000     23439.000000  23439.000000  \n",
      "mean       1.642348     69.200734         1.346090      6.862323  \n",
      "std        1.229852    209.042209         0.857162     24.057935  \n",
      "min        0.000000      0.000000         1.000000      1.000000  \n",
      "25%        1.000000     32.000000         1.000000      2.000000  \n",
      "50%        1.000000     49.000000         1.000000      3.000000  \n",
      "75%        2.000000     75.000000         1.000000      4.000000  \n",
      "max       22.000000   8600.000000        16.000000   1000.000000  \n"
     ]
    }
   ],
   "source": [
    "# metrics of numerical features and target variable\n",
    "print(df.describe())"
   ]
  },
  {
   "cell_type": "code",
   "execution_count": 112,
   "metadata": {},
   "outputs": [
    {
     "data": {
      "text/plain": [
       "<matplotlib.axes._subplots.AxesSubplot at 0x220292bcfa0>"
      ]
     },
     "execution_count": 112,
     "metadata": {},
     "output_type": "execute_result"
    },
    {
     "data": {
      "image/png": "[encoded data removed]",
      "text/plain": [
       "<Figure size 432x288 with 1 Axes>"
      ]
     },
     "metadata": {
      "needs_background": "light"
     },
     "output_type": "display_data"
    }
   ],
   "source": [
    "# set seaborn palette\n",
    "sns.set_palette('colorblind')\n",
    "\n",
    "# categorize listings in 4 different price ranges \n",
    "df_price_ranges = df.copy()\n",
    "list_conds = [df_price_ranges['Price'] > 75.0,\n",
    "              (75.0 >= df_price_ranges['Price']) & (df_price_ranges['Price'] > 49.0),\n",
    "              (49.0 >= df_price_ranges['Price']) & (df_price_ranges['Price'] > 32.0),\n",
    "              32.0 >= df_price_ranges['Price']]\n",
    "list_price_ranges = ['high', 'medium high', 'medium low', 'low']\n",
    "df_price_ranges['Price_Range'] = np.select(list_conds, list_price_ranges)\n",
    "\n",
    "# scatterplot longitude vs. latitude\n",
    "sns.scatterplot(x='Latitude', y='Longitude', data=df_price_ranges, hue='Price_Range')"
   ]
  },
  {
   "cell_type": "code",
   "execution_count": null,
   "metadata": {},
   "outputs": [],
   "source": []
  }
 ],
 "metadata": {
  "kernelspec": {
   "display_name": "Python 3",
   "language": "python",
   "name": "python3"
  },
  "language_info": {
   "codemirror_mode": {
    "name": "ipython",
    "version": 3
   },
   "file_extension": ".py",
   "mimetype": "text/x-python",
   "name": "python",
   "nbconvert_exporter": "python",
   "pygments_lexer": "ipython3",
   "version": "3.8.3"
  }
 },
 "nbformat": 4,
 "nbformat_minor": 2
}
